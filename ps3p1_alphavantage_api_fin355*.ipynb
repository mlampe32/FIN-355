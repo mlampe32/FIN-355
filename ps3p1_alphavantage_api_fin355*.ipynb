{
 "cells": [
  {
   "cell_type": "markdown",
   "metadata": {},
   "source": [
    "## Problem Set 3 (Part 1 of 2): Interacting with the Alpha Vantage API using Python libraries"
   ]
  },
  {
   "cell_type": "markdown",
   "metadata": {},
   "source": [
    "As automation and algorithms continue to disrupt the investment managmentment business, it is important to know how to access finacial data that is realtime and interactive. In this problem set we will access the Alpha Vantage API to build datasets of recent stock performance. Alpha Vantage is a provider of free APIs for realtime and historical data on stocks, forex, and cryptocurrencies.\n",
    "\n",
    "This part of the exercise demonstrates:\n",
    "\n",
    "1. Setting up a programming environment to work with APIs\n",
    "2. Interpreting documentation to change parameters\n",
    "3. Using the 'requests' library to make HTTP requests\n",
    "4. Getting data through HTTP requests\n",
    "5. Using the 'alpha_vantage' library to access the API and format the data\n",
    "6. Creating an Excel file from the data\n",
    "\n",
    "Documentation links:\n",
    "<br />Alpha Vantage: https://www.alphavantage.co/documentation/\n",
    "<br />Alpha Vantage Python library: https://alpha-vantage.readthedocs.io/en/latest/#\n",
    "<br />Requests library: https://2.python-requests.org/en/master/\n",
    "<br />Pandas DataFrame: https://pandas.pydata.org/pandas-docs/stable/reference/frame.html"
   ]
  },
  {
   "cell_type": "markdown",
   "metadata": {},
   "source": [
    "______"
   ]
  },
  {
   "cell_type": "markdown",
   "metadata": {},
   "source": [
    "#### Get API key\n",
    "\n",
    "Go to https://www.alphavantage.co/support/#api-key and obtain an API key. Copy this key into the \"api_key\" variable in the next cell:"
   ]
  },
  {
   "cell_type": "code",
   "execution_count": 4,
   "metadata": {},
   "outputs": [],
   "source": [
    "api_key = \"2YY86W5ODA9UN8ZY\""
   ]
  },
  {
   "cell_type": "markdown",
   "metadata": {},
   "source": [
    "Assign a stock ticker symbol of your choosing to the 'ticker' variable:"
   ]
  },
  {
   "cell_type": "code",
   "execution_count": 3,
   "metadata": {},
   "outputs": [],
   "source": [
    "ticker = \"K\""
   ]
  },
  {
   "cell_type": "markdown",
   "metadata": {},
   "source": [
    "Import the appropriate libraries in the lines below each comment:"
   ]
  },
  {
   "cell_type": "code",
   "execution_count": 6,
   "metadata": {},
   "outputs": [],
   "source": [
    "# pandas\n",
    "import pandas as pd\n",
    "# requests\n",
    "import requests\n",
    "# alpha_vantage TimeSeries class\n",
    "from alpha_vantage.timeseries import TimeSeries \n",
    "# mmatplotlib.pyplot as plt\n",
    "import matplotlib.pyplot as plt"
   ]
  },
  {
   "cell_type": "markdown",
   "metadata": {},
   "source": [
    "#### Access API through an HTTP request\n",
    "\n",
    "Assign the API url to the variable \"link\".\n",
    "<br />(refer to the Alpha Vantage documention)\n",
    "<br />\n",
    "<br />Format the url string to include the \"api_key\" variable and the \"ticker\" variable Reassign the url u"
   ]
  },
  {
   "cell_type": "code",
   "execution_count": 23,
   "metadata": {},
   "outputs": [
    {
     "name": "stdout",
     "output_type": "stream",
     "text": [
      "https://www.alphavantage.co/query?function=TIME_SERIES_INTRADAY&symbol=K&interval=1min&apikey=2YY86W5ODA9UN8ZY\n"
     ]
    }
   ],
   "source": [
    "link = f\"https://www.alphavantage.co/query?function=TIME_SERIES_INTRADAY&symbol={ticker}&interval=1min&apikey={api_key}\"\n",
    "print(link)"
   ]
  },
  {
   "cell_type": "markdown",
   "metadata": {},
   "source": [
    "Refer to the requests documentation to set up a get request to the above url. Assign the output to a new variable, preferably your ticket symbol. "
   ]
  },
  {
   "cell_type": "code",
   "execution_count": 8,
   "metadata": {},
   "outputs": [],
   "source": [
    "K = requests.get(link)"
   ]
  },
  {
   "cell_type": "markdown",
   "metadata": {},
   "source": [
    "Print the HTTP response:"
   ]
  },
  {
   "cell_type": "code",
   "execution_count": 9,
   "metadata": {},
   "outputs": [
    {
     "name": "stdout",
     "output_type": "stream",
     "text": [
      "<Response [200]>\n"
     ]
    }
   ],
   "source": [
    "print(K)"
   ]
  },
  {
   "cell_type": "markdown",
   "metadata": {},
   "source": [
    "Print the data:"
   ]
  },
  {
   "cell_type": "code",
   "execution_count": 12,
   "metadata": {},
   "outputs": [
    {
     "name": "stdout",
     "output_type": "stream",
     "text": [
      "{\n",
      "    \"Error Message\": \"Invalid API call. Please retry or visit the documentation (https://www.alphavantage.co/documentation/) for TIME_SERIES_INTRADAY.\"\n",
      "}\n"
     ]
    }
   ],
   "source": [
    "print(K.text)"
   ]
  },
  {
   "cell_type": "markdown",
   "metadata": {},
   "source": [
    "______"
   ]
  },
  {
   "cell_type": "markdown",
   "metadata": {},
   "source": [
    "#### Access the API through the alpha_vantage libray\n",
    "\n",
    "Create an instance of the TimeSeries class imported earlier. Assign your API key to the key argument. Use \"pandas\" as an output format."
   ]
  },
  {
   "cell_type": "code",
   "execution_count": 13,
   "metadata": {},
   "outputs": [],
   "source": [
    "ts = TimeSeries(key=api_key,output_format='pandas')"
   ]
  },
  {
   "cell_type": "markdown",
   "metadata": {},
   "source": [
    "Use the get_intraday method to access API data. Get the last 100 observations of data for your ticker symbol at 1-minute intervals:"
   ]
  },
  {
   "cell_type": "code",
   "execution_count": 14,
   "metadata": {},
   "outputs": [],
   "source": [
    "data, meta_data = ts.get_intraday(symbol=ticker ,interval='1min', outputsize='compact')"
   ]
  },
  {
   "cell_type": "markdown",
   "metadata": {},
   "source": [
    "Print the data:"
   ]
  },
  {
   "cell_type": "code",
   "execution_count": 15,
   "metadata": {},
   "outputs": [
    {
     "name": "stdout",
     "output_type": "stream",
     "text": [
      "                     1. open  2. high   3. low  4. close  5. volume\n",
      "date                                                               \n",
      "2019-09-25 14:09:00  64.1300  64.1400  64.1300   64.1400     1868.0\n",
      "2019-09-25 14:10:00  64.1400  64.1460  64.1400   64.1460      384.0\n",
      "2019-09-25 14:11:00  64.1407  64.1600  64.1300   64.1500     2787.0\n",
      "2019-09-25 14:12:00  64.1700  64.1700  64.1500   64.1500     1058.0\n",
      "2019-09-25 14:13:00  64.1500  64.1500  64.1300   64.1300     2416.0\n",
      "2019-09-25 14:14:00  64.1200  64.1335  64.1200   64.1335     1293.0\n",
      "2019-09-25 14:15:00  64.1300  64.1400  64.1300   64.1400      750.0\n",
      "2019-09-25 14:16:00  64.1300  64.1300  64.1100   64.1200     1279.0\n",
      "2019-09-25 14:17:00  64.1202  64.1300  64.1200   64.1300     2327.0\n",
      "2019-09-25 14:18:00  64.1200  64.1540  64.1200   64.1540     1050.0\n",
      "2019-09-25 14:19:00  64.1450  64.1450  64.1300   64.1300      823.0\n",
      "2019-09-25 14:20:00  64.1600  64.1850  64.1600   64.1800     1217.0\n",
      "2019-09-25 14:21:00  64.1800  64.1800  64.1600   64.1700     3896.0\n",
      "2019-09-25 14:22:00  64.1750  64.1899  64.1700   64.1800     2141.0\n",
      "2019-09-25 14:23:00  64.1800  64.1900  64.1750   64.1850     3845.0\n",
      "2019-09-25 14:24:00  64.1850  64.2050  64.1750   64.2000     4247.0\n",
      "2019-09-25 14:25:00  64.2100  64.2200  64.2100   64.2150     1709.0\n",
      "2019-09-25 14:26:00  64.2100  64.2500  64.2100   64.2500     2675.0\n",
      "2019-09-25 14:27:00  64.2500  64.2600  64.2400   64.2450     3486.0\n",
      "2019-09-25 14:28:00  64.2500  64.2500  64.2400   64.2500     1962.0\n",
      "2019-09-25 14:29:00  64.2500  64.2550  64.2050   64.2299     4883.0\n",
      "2019-09-25 14:30:00  64.2460  64.2460  64.2000   64.2200     4861.0\n",
      "2019-09-25 14:31:00  64.2300  64.2450  64.2300   64.2450      645.0\n",
      "2019-09-25 14:32:00  64.2550  64.2550  64.2400   64.2400     3630.0\n",
      "2019-09-25 14:33:00  64.2560  64.2560  64.2000   64.2150     6124.0\n",
      "2019-09-25 14:34:00  64.2200  64.2350  64.2200   64.2350     1105.0\n",
      "2019-09-25 14:35:00  64.2300  64.2300  64.2200   64.2200     1665.0\n",
      "2019-09-25 14:36:00  64.2350  64.2400  64.2350   64.2375      514.0\n",
      "2019-09-25 14:37:00  64.2300  64.2500  64.2300   64.2500     2321.0\n",
      "2019-09-25 14:38:00  64.2700  64.2800  64.2600   64.2700     1818.0\n",
      "...                      ...      ...      ...       ...        ...\n",
      "2019-09-25 15:19:00  64.0650  64.0800  64.0600   64.0754     1399.0\n",
      "2019-09-25 15:20:00  64.0800  64.0800  64.0600   64.0600     2839.0\n",
      "2019-09-25 15:21:00  64.0600  64.0600  64.0300   64.0400     1893.0\n",
      "2019-09-25 15:22:00  64.0300  64.0300  64.0100   64.0100     2311.0\n",
      "2019-09-25 15:23:00  64.0150  64.0250  64.0100   64.0250     2122.0\n",
      "2019-09-25 15:24:00  64.0200  64.0300  64.0150   64.0300     2398.0\n",
      "2019-09-25 15:25:00  64.0300  64.0400  64.0200   64.0200     3363.0\n",
      "2019-09-25 15:26:00  64.0300  64.0300  64.0100   64.0200     3232.0\n",
      "2019-09-25 15:27:00  64.0150  64.0150  63.9700   63.9800     2668.0\n",
      "2019-09-25 15:28:00  63.9900  63.9900  63.9600   63.9900     2544.0\n",
      "2019-09-25 15:29:00  63.9700  63.9900  63.9700   63.9850     1395.0\n",
      "2019-09-25 15:30:00  63.9800  64.0100  63.9700   64.0058     3966.0\n",
      "2019-09-25 15:31:00  64.0050  64.0200  64.0050   64.0200      948.0\n",
      "2019-09-25 15:32:00  64.0200  64.0800  64.0200   64.0800     2096.0\n",
      "2019-09-25 15:33:00  64.0600  64.0750  64.0590   64.0750        0.0\n",
      "2019-09-25 15:34:00  64.0700  64.0700  64.0600   64.0700     3136.0\n",
      "2019-09-25 15:35:00  64.0600  64.0600  64.0550   64.0600     2333.0\n",
      "2019-09-25 15:36:00  64.0700  64.0700  64.0650   64.0650     1931.0\n",
      "2019-09-25 15:37:00  64.0550  64.0600  64.0300   64.0300     3779.0\n",
      "2019-09-25 15:38:00  64.0284  64.0284  64.0100   64.0200     1410.0\n",
      "2019-09-25 15:39:00  64.0200  64.0300  64.0100   64.0125     3791.0\n",
      "2019-09-25 15:40:00  64.0150  64.0600  64.0150   64.0450     5383.0\n",
      "2019-09-25 15:41:00  64.0400  64.0400  64.0200   64.0300    10273.0\n",
      "2019-09-25 15:42:00  64.0300  64.0300  64.0150   64.0198     4191.0\n",
      "2019-09-25 15:43:00  64.0150  64.0190  64.0100   64.0100     3391.0\n",
      "2019-09-25 15:44:00  64.0150  64.0400  64.0150   64.0350     3549.0\n",
      "2019-09-25 15:45:00  64.0300  64.0500  64.0200   64.0500     3452.0\n",
      "2019-09-25 15:46:00  64.0550  64.0650  64.0450   64.0650     3316.0\n",
      "2019-09-25 15:47:00  64.0700  64.0900  64.0526   64.0900    20550.0\n",
      "2019-09-25 15:48:00  64.0800  64.0900  64.0800   64.0900     1633.0\n",
      "\n",
      "[100 rows x 5 columns]\n"
     ]
    }
   ],
   "source": [
    "print(data)"
   ]
  },
  {
   "cell_type": "markdown",
   "metadata": {},
   "source": [
    "Plot one column of the time series data with the ticket symbol as the title of the graph.\n",
    "<br />(refer to prior problem set examples)"
   ]
  },
  {
   "cell_type": "code",
   "execution_count": 22,
   "metadata": {},
   "outputs": [
    {
     "data": {
      "image/png": "[encoded data removed]",
      "text/plain": [
       "<Figure size 432x288 with 1 Axes>"
      ]
     },
     "metadata": {
      "needs_background": "light"
     },
     "output_type": "display_data"
    }
   ],
   "source": [
    "data['1. open'].plot() \n",
    "plt.title(\"K\") \n",
    "plt.show()"
   ]
  },
  {
   "cell_type": "markdown",
   "metadata": {},
   "source": [
    "______"
   ]
  },
  {
   "cell_type": "markdown",
   "metadata": {},
   "source": [
    "#### Export intraday data to Excel file\n",
    "\n",
    "Refer to the pandas.DataFrame documentation and create an Excel file that includes your time series data of your stock price:"
   ]
  },
  {
   "cell_type": "code",
   "execution_count": 18,
   "metadata": {},
   "outputs": [],
   "source": [
    "data.to_excel(\"my_Kellog_stock_data.xlsx\")"
   ]
  },
  {
   "cell_type": "code",
   "execution_count": null,
   "metadata": {},
   "outputs": [],
   "source": []
  }
 ],
 "metadata": {
  "kernelspec": {
   "display_name": "Python 3",
   "language": "python",
   "name": "python3"
  },
  "language_info": {
   "codemirror_mode": {
    "name": "ipython",
    "version": 3
   },
   "file_extension": ".py",
   "mimetype": "text/x-python",
   "name": "python",
   "nbconvert_exporter": "python",
   "pygments_lexer": "ipython3",
   "version": "3.7.3"
  }
 },
 "nbformat": 4,
 "nbformat_minor": 2
}
